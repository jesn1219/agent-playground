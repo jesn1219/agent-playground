{
 "cells": [
  {
   "cell_type": "code",
   "execution_count": 17,
   "metadata": {},
   "outputs": [],
   "source": [
    "# train with SAC, stable baseline3\n",
    "import stable_baselines3\n",
    "from stable_baselines3 import SAC, PPO\n",
    "from stable_baselines3.sac import MlpPolicy\n",
    "from stable_baselines3.common.vec_env import DummyVecEnv\n",
    "from stable_baselines3.common.monitor import Monitor\n",
    "from wandb.integration.sb3 import WandbCallback\n",
    "import wandb\n",
    "# pip install gym-robotics\n",
    "import matplotlib.pyplot as plt\n",
    "from gym_robotics.envs.fetch.reach import MujocoPyFetchReachEnv\n",
    "from gym.wrappers import TimeLimit\n",
    "from jesnk_utils.rgb_to_video import RGB2VIDEO\n",
    "import cv2\n"
   ]
  },
  {
   "cell_type": "code",
   "execution_count": 40,
   "metadata": {},
   "outputs": [],
   "source": [
    "load_checkpoint_path = \"./checkpoint/PPO-FetchReach-dense-20230621_004248.zip\"\n",
    "#load_checkpoint_path = \"./checkpoint/PPO-FetchReach-dense-20230621_004058.zip\"\n",
    "\n",
    "rollout_path = \"./checkpoint_rollout/\"\n",
    "model = SAC.load(load_checkpoint_path)"
   ]
  },
  {
   "cell_type": "code",
   "execution_count": 41,
   "metadata": {},
   "outputs": [
    {
     "name": "stdout",
     "output_type": "stream",
     "text": [
      "PPO-FetchReach-dense-20230621_004248\n"
     ]
    }
   ],
   "source": [
    "# Get model name\n",
    "model_name = load_checkpoint_path.split(\"/\")[-1].split(\".\")[0]\n",
    "print(model_name)"
   ]
  },
  {
   "cell_type": "code",
   "execution_count": 43,
   "metadata": {},
   "outputs": [
    {
     "name": "stdout",
     "output_type": "stream",
     "text": [
      "episode 300 done\n",
      "success rate: 1.0\n"
     ]
    }
   ],
   "source": [
    "rgb_to_video = RGB2VIDEO()\n",
    "\n",
    "env = MujocoPyFetchReachEnv(reward_type='dense',)\n",
    "env.render_mode = 'rgb_array'\n",
    "#env = Monitor(env_eval, log_dir)\n",
    "#env = TimeLimit(env, max_episode_steps=100)\n",
    "env = DummyVecEnv([lambda: env])\n",
    "#env.render_mode = 'rgb_array'\n",
    "\n",
    "episode_step = 0\n",
    "episode_num = 0\n",
    "replay_step = 300\n",
    "cumulative_reward = 0\n",
    "frames = []\n",
    "obs = env.reset()\n",
    "\n",
    "success = []\n",
    "\n",
    "for i in range(1,replay_step+1):\n",
    "    action, _states = model.predict(obs, deterministic=True)\n",
    "    obs, rewards, dones, info = env.step(action)\n",
    "    cumulative_reward += rewards[0]\n",
    "    \n",
    "    frame = env.render()\n",
    "    #frame = cv2.cvtColor(frame, cv2.COLOR_RGB2BGR)\n",
    "    frame = cv2.cvtColor(frame, cv2.COLOR_RGB2BGR)\n",
    "    frame = cv2.cvtColor(frame, cv2.COLOR_BGR2RGB)\n",
    "\n",
    "    # append infos into image (rewards, episode_step, episode_num)\n",
    "    frame = cv2.putText(frame, f'rewards: {rewards[0]:.2f}', (10, 35), cv2.FONT_HERSHEY_SIMPLEX, 0.5, (255, 0, 0), 1, cv2.LINE_AA)\n",
    "    frame = cv2.putText(frame, f'cumulative_reward: {cumulative_reward:.2f}', (10, 15), cv2.FONT_HERSHEY_SIMPLEX, 0.5, (255, 0, 0), 1, cv2.LINE_AA)\n",
    "    frame = cv2.putText(frame, f'episode_step: {episode_step}', (10, 55), cv2.FONT_HERSHEY_SIMPLEX, 0.5, (255, 0, 0), 1, cv2.LINE_AA)\n",
    "    frame = cv2.putText(frame, f'episode_num: {episode_num}', (10, 75), cv2.FONT_HERSHEY_SIMPLEX, 0.5, (255, 0, 0), 1, cv2.LINE_AA)\n",
    "    frames.append(frame)\n",
    "    \n",
    "    episode_step += 1\n",
    "    if dones[0]:\n",
    "        obs = env.reset()\n",
    "        success.append(info[0]['is_success'])\n",
    "        episode_step = 0\n",
    "        cumulative_reward = 0\n",
    "        episode_num += 1\n",
    "\n",
    "print(f'episode {i} done')\n",
    "success_rate = sum(success)/len(success)\n",
    "print(f'success rate: {success_rate}')\n",
    "\n",
    "rgb_to_video.set_frames(frames)\n",
    "rgb_to_video.set_fps(5)\n",
    "rgb_to_video.save(path=f'{rollout_path}{model_name}_{success_rate:.3f}.gif',mode='gif')\n",
    "\n",
    "frames = []\n",
    "rgb_to_video.container.clear()\n"
   ]
  },
  {
   "cell_type": "code",
   "execution_count": null,
   "metadata": {},
   "outputs": [],
   "source": []
  }
 ],
 "metadata": {
  "kernelspec": {
   "display_name": "env",
   "language": "python",
   "name": "python3"
  },
  "language_info": {
   "codemirror_mode": {
    "name": "ipython",
    "version": 3
   },
   "file_extension": ".py",
   "mimetype": "text/x-python",
   "name": "python",
   "nbconvert_exporter": "python",
   "pygments_lexer": "ipython3",
   "version": "3.8.16"
  },
  "orig_nbformat": 4
 },
 "nbformat": 4,
 "nbformat_minor": 2
}
