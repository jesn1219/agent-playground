{
 "cells": [
  {
   "cell_type": "code",
   "execution_count": 39,
   "metadata": {},
   "outputs": [
    {
     "name": "stdout",
     "output_type": "stream",
     "text": [
      "/research/agent-playground/dt/gym/data/hopper-medium-v2.pkl\n"
     ]
    }
   ],
   "source": [
    "import os\n",
    "import pickle\n",
    "import numpy as np\n",
    "\n",
    "#cur_path = os.path.dirname(os.path.realpath(__file__))\n",
    "cur_path = '/research/agent-playground'\n",
    "repo = 'dt/gym'\n",
    "env_name = 'hopper'\n",
    "dataset='medium'\n",
    "dataset_path = f'{cur_path}/{repo}/data/{env_name}-{dataset}-v2.pkl'\n",
    "\n",
    "print(dataset_path)"
   ]
  },
  {
   "attachments": {},
   "cell_type": "markdown",
   "metadata": {},
   "source": [
    "#\n",
    "* hopper-medium :1422.0562\n",
    "* hopper-expert : 3511.3577"
   ]
  },
  {
   "cell_type": "code",
   "execution_count": 40,
   "metadata": {},
   "outputs": [],
   "source": [
    "with open(dataset_path, 'rb') as f:\n",
    "    trajectories = pickle.load(f)"
   ]
  },
  {
   "cell_type": "code",
   "execution_count": 41,
   "metadata": {},
   "outputs": [],
   "source": [
    "mode= None # 'delayed' or None\n",
    "states, traj_lens, returns = [], [], []\n",
    "for path in trajectories:\n",
    "    if mode == 'delayed':  # delayed: all rewards moved to end of trajectory\n",
    "        path['rewards'][-1] = path['rewards'].sum()\n",
    "        path['rewards'][:-1] = 0.\n",
    "    states.append(path['observations'])\n",
    "    traj_lens.append(len(path['observations']))\n",
    "    returns.append(path['rewards'].sum())"
   ]
  },
  {
   "cell_type": "code",
   "execution_count": 42,
   "metadata": {},
   "outputs": [
    {
     "name": "stderr",
     "output_type": "stream",
     "text": [
      "/tmp/ipykernel_7993/1645571195.py:1: VisibleDeprecationWarning: Creating an ndarray from ragged nested sequences (which is a list-or-tuple of lists-or-tuples-or ndarrays with different lengths or shapes) is deprecated. If you meant to do this, you must specify 'dtype=object' when creating the ndarray.\n",
      "  states = np.array(states)\n"
     ]
    }
   ],
   "source": [
    "states = np.array(states)\n",
    "traj_lens = np.array(traj_lens)\n",
    "returns = np.array(returns)"
   ]
  },
  {
   "cell_type": "code",
   "execution_count": 43,
   "metadata": {},
   "outputs": [
    {
     "name": "stdout",
     "output_type": "stream",
     "text": [
      "(470, 11)\n",
      "470\n",
      "1465.1846\n"
     ]
    }
   ],
   "source": [
    "print(states[0].shape)\n",
    "print(traj_lens[0])\n",
    "print(returns[0])"
   ]
  },
  {
   "cell_type": "code",
   "execution_count": 63,
   "metadata": {},
   "outputs": [],
   "source": [
    "# get the number of all states\n",
    "num_states = 0\n",
    "for i in range(len(states)):\n",
    "    num_states += len(states[i])"
   ]
  },
  {
   "cell_type": "code",
   "execution_count": 64,
   "metadata": {},
   "outputs": [
    {
     "data": {
      "text/plain": [
       "999906"
      ]
     },
     "execution_count": 64,
     "metadata": {},
     "output_type": "execute_result"
    }
   ],
   "source": [
    "num_states"
   ]
  },
  {
   "cell_type": "code",
   "execution_count": 37,
   "metadata": {},
   "outputs": [
    {
     "name": "stdout",
     "output_type": "stream",
     "text": [
      "3511.3577\n"
     ]
    }
   ],
   "source": [
    "print(returns.mean())"
   ]
  },
  {
   "cell_type": "code",
   "execution_count": null,
   "metadata": {},
   "outputs": [],
   "source": []
  }
 ],
 "metadata": {
  "kernelspec": {
   "display_name": "env",
   "language": "python",
   "name": "python3"
  },
  "language_info": {
   "codemirror_mode": {
    "name": "ipython",
    "version": 3
   },
   "file_extension": ".py",
   "mimetype": "text/x-python",
   "name": "python",
   "nbconvert_exporter": "python",
   "pygments_lexer": "ipython3",
   "version": "3.8.16"
  },
  "orig_nbformat": 4
 },
 "nbformat": 4,
 "nbformat_minor": 2
}
