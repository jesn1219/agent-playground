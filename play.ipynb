{
 "cells": [
  {
   "cell_type": "code",
   "execution_count": 1,
   "metadata": {},
   "outputs": [
    {
     "name": "stderr",
     "output_type": "stream",
     "text": [
      "/env/lib/python3.8/site-packages/tqdm/auto.py:21: TqdmWarning: IProgress not found. Please update jupyter and ipywidgets. See https://ipywidgets.readthedocs.io/en/stable/user_install.html\n",
      "  from .autonotebook import tqdm as notebook_tqdm\n"
     ]
    }
   ],
   "source": [
    "import torch"
   ]
  },
  {
   "cell_type": "code",
   "execution_count": 2,
   "metadata": {},
   "outputs": [
    {
     "data": {
      "text/plain": [
       "True"
      ]
     },
     "execution_count": 2,
     "metadata": {},
     "output_type": "execute_result"
    }
   ],
   "source": [
    "torch.cuda.is_available()"
   ]
  },
  {
   "cell_type": "code",
   "execution_count": 18,
   "metadata": {},
   "outputs": [],
   "source": [
    "import mujoco_py\n",
    "import gym\n",
    "import matplotlib.pyplot as plt\n",
    "import imageio\n",
    "import cv2\n"
   ]
  },
  {
   "cell_type": "code",
   "execution_count": 9,
   "metadata": {},
   "outputs": [
    {
     "name": "stderr",
     "output_type": "stream",
     "text": [
      "/env/lib/python3.8/site-packages/gym/envs/registration.py:505: UserWarning: \u001b[33mWARN: The environment HalfCheetah-v2 is out of date. You should consider upgrading to version `v3` with the environment ID `HalfCheetah-v3`.\u001b[0m\n",
      "  logger.warn(\n"
     ]
    }
   ],
   "source": []
  },
  {
   "cell_type": "code",
   "execution_count": 24,
   "metadata": {},
   "outputs": [],
   "source": [
    "import stable_baselines3\n",
    "# get ppo agent\n",
    "from stable_baselines3 import PPO\n",
    "from stable_baselines3.common.vec_env import DummyVecEnv\n",
    "from stable_baselines3.common.env_util import make_vec_env\n",
    "from stable_baselines3.common.evaluation import evaluate_policy\n",
    "\n",
    "# make environment\n",
    "env = gym.make('HalfCheetah-v2')\n",
    "env = DummyVecEnv([lambda: env])\n",
    "\n",
    "# make agent\n",
    "agent = PPO('MlpPolicy', env, verbose=1)\n",
    "\n",
    "# load agent\n",
    "\n",
    "#agent.load('ppo_halfcheetah')\n",
    "\n",
    "# train agent\n",
    "agent.learn(total_timesteps=100000)\n",
    "\n",
    "# save agent\n",
    "agent.save('ppo_halfcheetah')\n",
    "\n",
    "# evaluate agent\n",
    "\n",
    "mean_reward, std_reward = evaluate_policy(agent, env, n_eval_episodes=10)\n",
    "\n",
    "\n",
    "frame_container = []\n",
    "# take a episode step\n",
    "\n",
    "state = env.reset()\n",
    "episode_reward = 0\n",
    "for i in range(300):\n",
    "    # take a step\n",
    "    action = env.action_space.sample()\n",
    "    next_state, reward, done, info = env.step(action)\n",
    "    # render environment\n",
    "    img = env.render(mode = 'rgb_array')\n",
    "    \n",
    "    # append reward to episode reward\n",
    "    episode_reward += reward\n",
    "\n",
    "    # convert np.array to cv2 image\n",
    "    img = cv2.cvtColor(img, cv2.COLOR_RGB2BGR)\n",
    "\n",
    "    # plot reward on image\n",
    "    cv2.putText(img, str(episode_reward), (10, 30), cv2.FONT_HERSHEY_SIMPLEX, 1, (255, 255, 255), 2, cv2.LINE_AA)\n",
    "\n",
    "    # append image to container\n",
    "    frame_container.append(img)\n",
    "\n",
    "\n",
    "    \n",
    "    # check if episode is done\n",
    "    if done:\n",
    "        pass #break\n",
    "\n",
    "\n",
    "# get image array from environment\n",
    "\n",
    "# make gif from image array\n",
    "imageio.mimsave('test.gif', frame_container, fps=30)\n"
   ]
  },
  {
   "cell_type": "code",
   "execution_count": 25,
   "metadata": {},
   "outputs": [
    {
     "data": {
      "text/plain": [
       "array([ 0.9720323 ,  0.9902362 ,  0.8942215 , -0.50441545,  0.90029955,\n",
       "        0.8630748 ], dtype=float32)"
      ]
     },
     "execution_count": 25,
     "metadata": {},
     "output_type": "execute_result"
    }
   ],
   "source": []
  },
  {
   "cell_type": "code",
   "execution_count": 16,
   "metadata": {},
   "outputs": [
    {
     "name": "stdout",
     "output_type": "stream",
     "text": [
      "<class 'numpy.ndarray'>\n"
     ]
    }
   ],
   "source": []
  }
 ],
 "metadata": {
  "kernelspec": {
   "display_name": "env",
   "language": "python",
   "name": "python3"
  },
  "language_info": {
   "codemirror_mode": {
    "name": "ipython",
    "version": 3
   },
   "file_extension": ".py",
   "mimetype": "text/x-python",
   "name": "python",
   "nbconvert_exporter": "python",
   "pygments_lexer": "ipython3",
   "version": "3.8.16"
  },
  "orig_nbformat": 4
 },
 "nbformat": 4,
 "nbformat_minor": 2
}
