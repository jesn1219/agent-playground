{
 "cells": [
  {
   "cell_type": "code",
   "execution_count": null,
   "metadata": {},
   "outputs": [],
   "source": [
    "# train with SAC, stable baseline3\n",
    "import stable_baselines3\n",
    "from stable_baselines3 import SAC, PPO\n",
    "from stable_baselines3.sac import MlpPolicy\n",
    "from stable_baselines3.common.vec_env import DummyVecEnv\n",
    "from stable_baselines3.common.monitor import Monitor\n",
    "from wandb.integration.sb3 import WandbCallback\n",
    "import wandb\n",
    "# pip install gym-robotics\n",
    "import matplotlib.pyplot as plt\n",
    "from gym_robotics.envs.fetch.reach import MujocoPyFetchReachEnv\n",
    "from gym.wrappers import TimeLimit\n",
    "from jesnk_utils.rgb_to_video import RGB2VIDEO\n",
    "import cv2"
   ]
  },
  {
   "cell_type": "code",
   "execution_count": null,
   "metadata": {},
   "outputs": [],
   "source": [
    "load_checkpoint_path = \"./checkpoint/PPO-FetchReach-dense-20230621_004248.zip\"\n",
    "#load_checkpoint_path = \"./checkpoint/PPO-FetchReach-dense-20230621_004058.zip\"\n",
    "model_name = load_checkpoint_path.split(\"/\")[-1].split(\".\")[0]\n",
    "rollout_path = f\"./checkpoint_rollout/{model_name}/\"\n",
    "model = SAC.load(load_checkpoint_path)"
   ]
  },
  {
   "cell_type": "code",
   "execution_count": null,
   "metadata": {},
   "outputs": [],
   "source": [
    "rgb_to_video = RGB2VIDEO()\n",
    "env = MujocoPyFetchReachEnv(reward_type='dense')\n",
    "env.render_mode = 'rgb_array'\n",
    "#env = Monitor(env_eval, log_dir)\n",
    "#env = TimeLimit(env, max_episode_steps=100)\n",
    "env = DummyVecEnv([lambda: env])\n",
    "#env.render_mode = 'rgb_array'\n",
    "\n",
    "episode_step = 0\n",
    "episode_num = 0\n",
    "replay_step = 300\n",
    "cumulative_reward = 0\n",
    "frames = []\n",
    "obs = env.reset()\n",
    "\n",
    "success = []\n",
    "\n",
    "trajectories = []\n",
    "\n",
    "#### NOT IMPLEMENTED ####\n",
    "\n",
    "for i in range(1,replay_step+1):\n",
    "    action, _states = model.predict(obs, deterministic=True)\n",
    "    obs, rewards, dones, info = env.step(action)\n",
    "    cumulative_reward += rewards[0]\n",
    "\n",
    "    episode_step += 1\n",
    "    if dones[0]:\n",
    "        obs = env.reset()\n",
    "        success.append(info[0]['is_success'])\n",
    "        episode_step = 0\n",
    "        cumulative_reward = 0\n",
    "        episode_num += 1\n",
    "\n",
    "print(f'episode {i} done')\n",
    "success_rate = sum(success)/len(success)\n",
    "print(f'success rate: {success_rate}')\n",
    "\n",
    "rgb_to_video.set_frames(frames)\n",
    "rgb_to_video.set_fps(5)\n",
    "rgb_to_video.save(path=f'{rollout_path}epi{len(success)}_sucrat{success_rate:.3f}.gif',mode='gif')\n",
    "\n",
    "frames = []\n",
    "rgb_to_video.container.clear()\n"
   ]
  }
 ],
 "metadata": {
  "kernelspec": {
   "display_name": "env",
   "language": "python",
   "name": "python3"
  },
  "language_info": {
   "name": "python",
   "version": "3.8.16"
  },
  "orig_nbformat": 4
 },
 "nbformat": 4,
 "nbformat_minor": 2
}
