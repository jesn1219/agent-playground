{
 "cells": [
  {
   "cell_type": "code",
   "execution_count": 22,
   "metadata": {},
   "outputs": [
    {
     "name": "stdout",
     "output_type": "stream",
     "text": [
      "/research/agent-playground/dt/gym/data/hopper-medium-v2.pkl\n"
     ]
    }
   ],
   "source": [
    "import os\n",
    "import pickle\n",
    "import numpy as np\n",
    "\n",
    "#cur_path = os.path.dirname(os.path.realpath(__file__))\n",
    "cur_path = '/research/agent-playground'\n",
    "repo = 'dt/gym'\n",
    "env_name = 'hopper'\n",
    "dataset='medium'\n",
    "dataset_path = f'{cur_path}/{repo}/data/{env_name}-{dataset}-v2.pkl'\n",
    "\n",
    "print(dataset_path)"
   ]
  },
  {
   "attachments": {},
   "cell_type": "markdown",
   "metadata": {},
   "source": [
    "#\n",
    "* hopper-medium :1422.0562\n",
    "* hopper-expert : 3511.3577"
   ]
  },
  {
   "cell_type": "code",
   "execution_count": 23,
   "metadata": {},
   "outputs": [],
   "source": [
    "with open(dataset_path, 'rb') as f:\n",
    "    trajectories = pickle.load(f)"
   ]
  },
  {
   "cell_type": "code",
   "execution_count": 25,
   "metadata": {},
   "outputs": [
    {
     "name": "stdout",
     "output_type": "stream",
     "text": [
      "2186\n"
     ]
    }
   ],
   "source": [
    "print(len(trajectories))"
   ]
  },
  {
   "cell_type": "code",
   "execution_count": 27,
   "metadata": {},
   "outputs": [
    {
     "name": "stdout",
     "output_type": "stream",
     "text": [
      "<class 'dict'>\n"
     ]
    }
   ],
   "source": [
    "2186, 445, [ ] "
   ]
  },
  {
   "cell_type": "code",
   "execution_count": 34,
   "metadata": {},
   "outputs": [
    {
     "name": "stdout",
     "output_type": "stream",
     "text": [
      "observations\n",
      "[ 1.2504417e+00 -1.7973253e-03  3.1960723e-03 -7.0950063e-04\n",
      "  4.9545411e-03  1.0553487e-03  8.9580676e-04  2.4980563e-03\n",
      " -4.8985155e-03 -2.1868155e-03 -2.5267722e-03]\n",
      "next_observations\n",
      "[ 1.2500737e+00 -3.2647760e-03  3.1827476e-03 -4.2851535e-03\n",
      "  9.7275414e-03 -5.6886189e-02 -9.3106709e-02 -3.6952144e-01\n",
      "  8.4572949e-04 -8.9060342e-01  1.1942062e+00]\n",
      "actions\n",
      "[ 0.8824358 -0.6190812  0.7960507]\n",
      "rewards\n",
      "0.9702697\n",
      "terminals\n",
      "False\n",
      "dict_keys(['observations', 'next_observations', 'actions', 'rewards', 'terminals'])\n",
      "445\n",
      "445\n",
      "[0.9702697  0.94789386 0.97598034 1.0411382  1.0706973  1.0761857\n",
      " 1.1501858  1.1129433  1.0691252  1.1185323  1.1774006  1.24976\n",
      " 1.3118258  1.3586609  1.4301738  1.518532   1.5471207  1.5546397\n",
      " 1.6100774  1.6609553  1.7026192  1.7365911  1.73347    1.7413487\n",
      " 1.7701749  1.7933605  1.8121043  1.8236699  1.8342404  1.8241134\n",
      " 1.8430097  1.8238431  1.839842   1.8366736  1.841312   1.8879292\n",
      " 1.8451349  1.9100728  1.9498532  1.9429162  1.9882121  2.00655\n",
      " 2.0041487  2.0352254  2.0988638  2.164437   2.2018042  2.2448504\n",
      " 2.3045168  2.320069   2.3879936  2.4239757  2.4898136  2.5044775\n",
      " 2.4834688  2.5421383  2.6183643  2.5486896  2.4972386  2.5163953\n",
      " 2.5626082  2.5711765  2.542849   2.529687   2.5070422  2.5262642\n",
      " 2.5353224  2.5505333  2.5773304  2.5802746  2.5951045  2.6019182\n",
      " 2.5182316  2.478731   2.5153127  2.5026717  2.3948696  2.3660812\n",
      " 2.3780005  2.371588   2.3334308  2.2981524  2.2546625  2.2085724\n",
      " 2.1850004  2.1643147  2.1490283  2.1625192  2.153031   2.1255205\n",
      " 2.158912   2.2209966  2.2980297  2.3481667  2.386599   2.4112513\n",
      " 2.370453   2.3050628  2.288292   2.295701   2.3214614  2.3080235\n",
      " 2.312884   2.3437119  2.3520367  2.370949   2.384227   2.404446\n",
      " 2.4121234  2.4095197  2.3991644  2.4099944  2.4113293  2.3961704\n",
      " 2.3747802  2.3547482  2.3536153  2.3272731  2.3062506  2.2781835\n",
      " 2.2835147  2.2716517  2.227587   2.2133152  2.2452028  2.2828312\n",
      " 2.3110077  2.3106658  2.3167453  2.3203514  2.3198366  2.3119879\n",
      " 2.2218146  2.1745546  2.1708457  2.1868062  2.192187   2.1956573\n",
      " 2.5877535  2.952534   3.1178813  3.1984692  3.2553725  3.3056934\n",
      " 3.3943717  3.4183824  3.414457   3.4328485  3.4581318  3.4631567\n",
      " 3.4063194  3.312891   3.2295957  3.2252924  3.2479618  3.2828152\n",
      " 3.2725194  3.2161458  3.1688986  3.1226165  3.054797   3.0194063\n",
      " 3.0032172  2.9223723  2.83612    2.7375536  2.6188347  2.5993369\n",
      " 2.6015875  2.6209753  2.655597   2.677567   2.758652   2.8063073\n",
      " 2.8304355  2.891562   2.8900948  2.8517349  2.8501341  2.9163892\n",
      " 2.922363   2.8777447  2.878724   2.8382144  2.8300571  2.8470163\n",
      " 2.8415115  2.854955   2.8716516  2.8656793  2.885151   2.911333\n",
      " 2.9333847  2.9406834  2.9383142  2.9412806  2.933939   2.9061193\n",
      " 2.8883648  2.855394   2.8354108  2.7753127  2.7118847  2.6821642\n",
      " 2.6514869  2.6891315  2.7331538  2.7278986  2.7211363  2.713524\n",
      " 2.6780217  2.708137   2.7681167  2.7853036  2.8062718  2.8340483\n",
      " 2.8415248  2.7636864  2.7122028  2.7035103  2.6886344  2.6912777\n",
      " 2.696807   2.6863155  2.6992872  2.8712115  3.3589087  3.5312352\n",
      " 3.5840704  3.7613575  3.9135387  3.9036627  3.8894963  3.887895\n",
      " 3.8701181  3.882036   3.864778   3.8421223  3.750847   3.6260777\n",
      " 3.5153484  3.4397907  3.4197621  3.390656   3.3339486  3.2685764\n",
      " 3.207803   3.1462727  3.0618277  2.982636   2.881116   2.8004353\n",
      " 2.7701418  2.680591   2.657048   2.630173   2.6064992  2.6718743\n",
      " 2.7345169  2.771887   2.8057408  2.8336523  2.8592455  2.9278433\n",
      " 2.96889    2.960145   2.9896603  2.991251   2.9667146  2.948559\n",
      " 2.932977   2.9706342  2.995009   2.9923058  2.9767606  2.9623368\n",
      " 2.9799469  3.0483818  3.1498191  3.2278657  3.3034282  3.364949\n",
      " 3.1904292  3.0078266  2.9900277  3.011428   3.034905   3.0260804\n",
      " 3.0406716  3.0050478  2.8592372  2.774321   2.808992   2.8561099\n",
      " 2.8398418  2.8434408  2.8674817  2.8627017  2.87659    2.8854342\n",
      " 2.8968885  2.9162283  2.920118   2.9286697  2.9309244  2.9362414\n",
      " 2.9432378  2.9397552  2.9435527  2.95718    2.9505532  2.954032\n",
      " 2.9555786  2.9400542  3.0222223  3.3677413  3.5221608  3.6203825\n",
      " 3.617448   3.5570388  3.4977565  3.4508169  3.4581387  3.5518467\n",
      " 3.6566255  3.7804618  3.8377104  3.8129559  3.8223615  3.8228657\n",
      " 3.8131902  3.861356   3.8644667  3.803558   3.777074   3.7158308\n",
      " 3.6835074  3.6052184  3.5315673  3.4733365  3.496494   3.521146\n",
      " 3.561693   3.6342442  3.671331   3.7127328  3.7470508  3.7955103\n",
      " 3.81718    3.7984674  3.7089818  3.6709135  3.6309152  3.6327775\n",
      " 3.648901   3.6488862  3.6653025  3.6932707  3.6826224  3.6973736\n",
      " 3.7107286  3.7012537  3.693388   3.6983109  3.7068117  3.707413\n",
      " 3.7079895  3.6998987  3.7145355  3.716182   3.7357965  3.760938\n",
      " 3.7640927  3.70734    3.6203194  3.591503   3.5986085  3.6127355\n",
      " 3.607216   3.6169074  3.625583   3.614636   3.6185555  3.5773647\n",
      " 3.5162895  3.466358   3.4013817  3.3634229  3.3695657  3.3515267\n",
      " 3.3239717  3.4837081  3.6825647  3.8427947  4.0236254  4.1908298\n",
      " 4.3943057  4.843315   5.092175   5.079023   5.078637   5.0505266\n",
      " 5.069129   5.13306    5.1271973  5.1402154  5.0922785  5.044297\n",
      " 5.0188446  5.076464   5.119673   5.0210395  4.9272833  4.967874\n",
      " 5.019678   4.9809175  4.9925723  4.9102435  4.8838167  4.8597536\n",
      " 4.7691703  4.6952477  4.68199    4.6576095  4.5850987  4.552472\n",
      " 4.4573255  4.3821383  4.305647   4.279886   4.2159266  4.197063\n",
      " 4.1793184  4.1290765  4.067413   4.054261   4.015209   3.8977864\n",
      " 3.7932842  3.787923   3.7848318  3.7183127  3.6478176  3.5844502\n",
      " 3.4556231 ]\n"
     ]
    }
   ],
   "source": [
    "trajectory = trajectories[3]\n",
    "\n",
    "for i in trajectory :\n",
    "    print(i)\n",
    "    print(trajectory[i][0])\n",
    "print(trajectory.keys())\n",
    "print(len(trajectory['observations']))\n",
    "print(len(trajectory['rewards']))\n",
    "print(trajectory['rewards'])"
   ]
  },
  {
   "cell_type": "code",
   "execution_count": 3,
   "metadata": {},
   "outputs": [],
   "source": [
    "mode= None # 'delayed' or None\n",
    "states, traj_lens, returns = [], [], []\n",
    "for path in trajectories:\n",
    "    if mode == 'delayed':  # delayed: all rewards moved to end of trajectory\n",
    "        path['rewards'][-1] = path['rewards'].sum()\n",
    "        path['rewards'][:-1] = 0.\n",
    "    states.append(path['observations'])\n",
    "    traj_lens.append(len(path['observations']))\n",
    "    returns.append(path['rewards'].sum())"
   ]
  },
  {
   "cell_type": "code",
   "execution_count": 4,
   "metadata": {},
   "outputs": [
    {
     "name": "stderr",
     "output_type": "stream",
     "text": [
      "/tmp/ipykernel_7205/1645571195.py:1: VisibleDeprecationWarning: Creating an ndarray from ragged nested sequences (which is a list-or-tuple of lists-or-tuples-or ndarrays with different lengths or shapes) is deprecated. If you meant to do this, you must specify 'dtype=object' when creating the ndarray.\n",
      "  states = np.array(states)\n"
     ]
    }
   ],
   "source": [
    "states = np.array(states)\n",
    "traj_lens = np.array(traj_lens)\n",
    "returns = np.array(returns)"
   ]
  },
  {
   "cell_type": "code",
   "execution_count": 5,
   "metadata": {},
   "outputs": [
    {
     "name": "stdout",
     "output_type": "stream",
     "text": [
      "(470, 11)\n",
      "470\n",
      "1465.1846\n"
     ]
    }
   ],
   "source": [
    "print(states[0].shape)\n",
    "print(traj_lens[0])\n",
    "print(returns[0])"
   ]
  },
  {
   "cell_type": "code",
   "execution_count": 63,
   "metadata": {},
   "outputs": [],
   "source": [
    "# get the number of all states\n",
    "num_states = 0\n",
    "for i in range(len(states)):\n",
    "    num_states += len(states[i])"
   ]
  },
  {
   "cell_type": "code",
   "execution_count": 64,
   "metadata": {},
   "outputs": [
    {
     "data": {
      "text/plain": [
       "999906"
      ]
     },
     "execution_count": 64,
     "metadata": {},
     "output_type": "execute_result"
    }
   ],
   "source": [
    "num_states"
   ]
  },
  {
   "cell_type": "code",
   "execution_count": 37,
   "metadata": {},
   "outputs": [
    {
     "name": "stdout",
     "output_type": "stream",
     "text": [
      "3511.3577\n"
     ]
    }
   ],
   "source": [
    "print(returns.mean())"
   ]
  },
  {
   "cell_type": "code",
   "execution_count": null,
   "metadata": {},
   "outputs": [],
   "source": []
  }
 ],
 "metadata": {
  "kernelspec": {
   "display_name": "env",
   "language": "python",
   "name": "python3"
  },
  "language_info": {
   "codemirror_mode": {
    "name": "ipython",
    "version": 3
   },
   "file_extension": ".py",
   "mimetype": "text/x-python",
   "name": "python",
   "nbconvert_exporter": "python",
   "pygments_lexer": "ipython3",
   "version": "3.8.16"
  },
  "orig_nbformat": 4
 },
 "nbformat": 4,
 "nbformat_minor": 2
}
